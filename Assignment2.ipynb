{
 "cells": [
  {
   "cell_type": "markdown",
   "id": "0f6e6f74-eb1a-4211-8e79-9d25778e8c43",
   "metadata": {},
   "source": [
    "#Q1. How do you comment code in Python? What are the different types of comments?\n",
    "\n",
    "There are three types of comments: single-line, multi-line, and docstring comments. \n",
    "The syntax of comments varies depending on the type.\n",
    "#  - single line\n",
    "''' ''' - multiline\n",
    "docstrings for commenting on modules, methods, functions, objects, and classes. They are written in the first line after defining a module, function, method, etc.,\n"
   ]
  },
  {
   "cell_type": "markdown",
   "id": "7cca077f-8a82-4400-9677-f145932656eb",
   "metadata": {},
   "source": [
    "Q2. What are variables in Python? How do you declare and assign values to variables?\n",
    "\n",
    "A variable is a string of characters and numbers associated with a piece of information. The assignment operator, denoted by the “=” symbol, is the operator that is used to assign values to variables in Python"
   ]
  },
  {
   "cell_type": "markdown",
   "id": "3a9eb9ae-3fe0-4780-b4d5-4ffad3c02d92",
   "metadata": {},
   "source": [
    "Q3. How do you convert one data type to another in Python?\n",
    "\n",
    "tuple(): This function is used to convert to a tuple. set(): This function returns the type after converting to set. list(): This function is used to convert any data type to a list type"
   ]
  },
  {
   "cell_type": "code",
   "execution_count": null,
   "id": "2707adc9-f402-4711-a6b3-e5a70545cd44",
   "metadata": {},
   "outputs": [],
   "source": [
    "#example"
   ]
  },
  {
   "cell_type": "code",
   "execution_count": 1,
   "id": "28305cba-ab45-4e48-bef5-e4aa5737f0b9",
   "metadata": {},
   "outputs": [
    {
     "data": {
      "text/plain": [
       "str"
      ]
     },
     "execution_count": 1,
     "metadata": {},
     "output_type": "execute_result"
    }
   ],
   "source": [
    "a=\"10\"\n",
    "type(a)"
   ]
  },
  {
   "cell_type": "code",
   "execution_count": 3,
   "id": "fa0754dc-ef3f-4d39-8be1-e622c4c261e9",
   "metadata": {},
   "outputs": [
    {
     "data": {
      "text/plain": [
       "int"
      ]
     },
     "execution_count": 3,
     "metadata": {},
     "output_type": "execute_result"
    }
   ],
   "source": [
    "b=int(a)\n",
    "type(b)"
   ]
  },
  {
   "cell_type": "markdown",
   "id": "598e0d12-9fa4-482a-b92e-6a746f1a3e33",
   "metadata": {},
   "source": [
    "Q4. How do you write and execute a Python script from the command line?\n",
    "open a command line and type the word python followed by the path to your script file like this: python first_script.py"
   ]
  },
  {
   "cell_type": "code",
   "execution_count": 5,
   "id": "46747c4d-174f-409e-ac8e-fc25a85cfa61",
   "metadata": {},
   "outputs": [
    {
     "data": {
      "text/plain": [
       "[2, 3]"
      ]
     },
     "execution_count": 5,
     "metadata": {},
     "output_type": "execute_result"
    }
   ],
   "source": [
    "#Q5. Given a list my_list = [1, 2, 3, 4, 5], write the code to slice the list and obtain the sub-list [2, 3].\n",
    "my_list = [1, 2, 3, 4, 5]\n",
    "sublist=my_list[1:3]\n",
    "sublist"
   ]
  },
  {
   "cell_type": "markdown",
   "id": "e4c30c2f-9ba6-484d-9f0a-99b0853c9fcc",
   "metadata": {},
   "source": [
    "Q6. What is a complex number in mathematics, and how is it represented in Python?\n",
    " It is written in the form of (x + yj) where x and y are real numbers and j is an imaginary number"
   ]
  },
  {
   "cell_type": "code",
   "execution_count": 6,
   "id": "4a8e8b8f-818a-42fd-b68c-62e3130b4035",
   "metadata": {},
   "outputs": [
    {
     "data": {
      "text/plain": [
       "(5+7j)"
      ]
     },
     "execution_count": 6,
     "metadata": {},
     "output_type": "execute_result"
    }
   ],
   "source": [
    "complex(5,7)"
   ]
  },
  {
   "cell_type": "code",
   "execution_count": 8,
   "id": "4df48e19-0efb-434f-824d-089d45f5ef24",
   "metadata": {},
   "outputs": [
    {
     "data": {
      "text/plain": [
       "25"
      ]
     },
     "execution_count": 8,
     "metadata": {},
     "output_type": "execute_result"
    }
   ],
   "source": [
    "#Q7. What is the correct way to declare a variable named age and assign the value 25 to it?\n",
    "age=25\n",
    "age"
   ]
  },
  {
   "cell_type": "code",
   "execution_count": 9,
   "id": "3255cd3a-ef9b-4ffe-ba0e-8c04b45dba8e",
   "metadata": {},
   "outputs": [
    {
     "data": {
      "text/plain": [
       "float"
      ]
     },
     "execution_count": 9,
     "metadata": {},
     "output_type": "execute_result"
    }
   ],
   "source": [
    "#Q8. Declare a variable named price and assign the value 9.99 to it. What data type does this variable\n",
    "#belong to?\n",
    "\n",
    "price=9.99\n",
    "type(price)"
   ]
  },
  {
   "cell_type": "code",
   "execution_count": 10,
   "id": "04a88ca3-429a-4ca5-8d7f-d68ceff46b94",
   "metadata": {},
   "outputs": [
    {
     "name": "stdout",
     "output_type": "stream",
     "text": [
      "anju\n"
     ]
    }
   ],
   "source": [
    "#Q9. Create a variable named name and assign your full name to it as a string. How would you print the\n",
    "#value of this variable?\n",
    "name=\"anju\"\n",
    "print(name)"
   ]
  },
  {
   "cell_type": "code",
   "execution_count": 15,
   "id": "459f91ce-8ce8-4b2d-a025-e429a96e35f3",
   "metadata": {},
   "outputs": [
    {
     "data": {
      "text/plain": [
       "'World'"
      ]
     },
     "execution_count": 15,
     "metadata": {},
     "output_type": "execute_result"
    }
   ],
   "source": [
    "#Q10. Given the string \"Hello, World!\", extract the substring \"World\".\n",
    "string = \"Hello, World!\"\n",
    "string.split(',')[-1].strip('!').strip()"
   ]
  },
  {
   "cell_type": "code",
   "execution_count": 17,
   "id": "702e514e-5e1a-43a4-bcd4-f38b7f0f74de",
   "metadata": {},
   "outputs": [
    {
     "name": "stdout",
     "output_type": "stream",
     "text": [
      "True\n"
     ]
    }
   ],
   "source": [
    "#Q11. Create a variable named \"is_student\" and assign it a boolean value indicating whether you are\n",
    "#currently a student or not.\n",
    "is_student=True\n",
    "print(is_student)"
   ]
  },
  {
   "cell_type": "code",
   "execution_count": null,
   "id": "ae4e03db-9e2b-4eac-80a6-749b7cad0ad4",
   "metadata": {},
   "outputs": [],
   "source": []
  }
 ],
 "metadata": {
  "kernelspec": {
   "display_name": "Python 3 (ipykernel)",
   "language": "python",
   "name": "python3"
  },
  "language_info": {
   "codemirror_mode": {
    "name": "ipython",
    "version": 3
   },
   "file_extension": ".py",
   "mimetype": "text/x-python",
   "name": "python",
   "nbconvert_exporter": "python",
   "pygments_lexer": "ipython3",
   "version": "3.10.8"
  }
 },
 "nbformat": 4,
 "nbformat_minor": 5
}
