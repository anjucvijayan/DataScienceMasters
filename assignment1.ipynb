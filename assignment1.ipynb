{
 "cells": [
  {
   "cell_type": "markdown",
   "id": "7be4da72-b2ae-4155-a090-111703729532",
   "metadata": {},
   "source": [
    "Q1. Create one variable containing following type of data:\n",
    "(i) string\n",
    "(ii) list\n",
    "(iii) float\n",
    "(iv) tuple"
   ]
  },
  {
   "cell_type": "code",
   "execution_count": 5,
   "id": "9338db63-21fb-47d8-88c8-0e4d18ce6aca",
   "metadata": {},
   "outputs": [],
   "source": [
    "a=\"Hello word\"\n",
    "list=[1,3,'hello',3.5]\n",
    "f=3.4\n",
    "tuple=(1,2)"
   ]
  },
  {
   "cell_type": "markdown",
   "id": "44822d25-55a6-47f7-885b-aeeb5565e945",
   "metadata": {},
   "source": [
    "Q2. Given are some following variables containing data:\n",
    "(i) var1 = ‘ ‘\n",
    "(ii) var2 = ‘[ DS , ML , Python]’\n",
    "(iii) var3 = [ ‘DS’ , ’ML’ , ‘Python’ ]\n",
    "(iv) var4 = 1.\n",
    "What will be the data type of the above given variable."
   ]
  },
  {
   "cell_type": "markdown",
   "id": "d7f1fbae-ccfe-4643-9aba-27fe47121fff",
   "metadata": {},
   "source": [
    "var1 - string\n",
    "var2 - string\n",
    "var3 - list\n",
    "var4 - float"
   ]
  },
  {
   "cell_type": "markdown",
   "id": "0b4a4ce3-482b-42cf-9858-b3b716200e55",
   "metadata": {},
   "source": [
    "Q3. Explain the use of the following operators using an example:\n",
    "(i) /\n",
    "(ii) %\n",
    "(iii) //\n",
    "(iv) **"
   ]
  },
  {
   "cell_type": "code",
   "execution_count": 21,
   "id": "67591e64-2255-472a-a15a-d26bf8c465f4",
   "metadata": {},
   "outputs": [],
   "source": [
    "a=6/4   # division\n",
    "b=6%4   # modulus\n",
    "c=6//4  #floor division\n",
    "d=2**4  # power"
   ]
  },
  {
   "cell_type": "markdown",
   "id": "76183487-c10f-42fe-a73a-71d661313b03",
   "metadata": {},
   "source": [
    "Q4. Create a list of length 10 of your choice containing multiple types of data. Using for loop print the\n",
    "element and its data type."
   ]
  },
  {
   "cell_type": "code",
   "execution_count": 25,
   "id": "ec5c0bcc-3531-45c4-b6ca-741a2bc0ea94",
   "metadata": {},
   "outputs": [
    {
     "name": "stdout",
     "output_type": "stream",
     "text": [
      "1:<class 'int'>\n",
      "2:<class 'int'>\n",
      "2.4:<class 'float'>\n",
      "True:<class 'bool'>\n",
      "hello:<class 'str'>\n",
      "0:<class 'int'>\n",
      "3.5:<class 'float'>\n",
      "apple:<class 'str'>\n",
      "5.6:<class 'float'>\n",
      "banana:<class 'str'>\n"
     ]
    }
   ],
   "source": [
    "list=[1,2,2.4,True,'hello',0,3.5,'apple',5.6,'banana']\n",
    "for i in list:\n",
    "    ele_type=type(i)\n",
    "    print( f'{i}:{ele_type}')"
   ]
  },
  {
   "cell_type": "markdown",
   "id": "62b8807e-9599-406c-9a1e-adde9afdc683",
   "metadata": {},
   "source": [
    "Q5. Using a while loop, verify if the number A is purely divisible by number B and if so then how many\n",
    "times it can be divisible."
   ]
  },
  {
   "cell_type": "code",
   "execution_count": 10,
   "id": "8a8f4f2e-6823-4840-bbf4-08b1d931691c",
   "metadata": {},
   "outputs": [
    {
     "name": "stdin",
     "output_type": "stream",
     "text": [
      "enter one number 8\n",
      "enter number 4\n"
     ]
    },
    {
     "name": "stdout",
     "output_type": "stream",
     "text": [
      "a is purely divisile by b by 2 times\n"
     ]
    }
   ],
   "source": [
    "a=int(input('enter one number'))\n",
    "b= int(input('enter number'))\n",
    "\n",
    "while a%b == 0:\n",
    "    a=a//b\n",
    "    print(f'a is purely divisile by b by {a} times')\n"
   ]
  },
  {
   "cell_type": "markdown",
   "id": "51f91846-dc00-454f-b375-448efbdc3031",
   "metadata": {},
   "source": [
    "Q6. Create a list containing 25 int type data. Using for loop and if-else condition print if the element is\n",
    "divisible by 3 or not."
   ]
  },
  {
   "cell_type": "code",
   "execution_count": 13,
   "id": "76ba56e0-9ad8-45f4-b5fc-a9f041c1a726",
   "metadata": {},
   "outputs": [
    {
     "name": "stdout",
     "output_type": "stream",
     "text": [
      "1 not divisible by 3\n",
      "2 not divisible by 3\n",
      "3 divisible by 3\n",
      "4 not divisible by 3\n",
      "5 not divisible by 3\n",
      "6 divisible by 3\n",
      "7 not divisible by 3\n",
      "8 not divisible by 3\n",
      "9 divisible by 3\n",
      "10 not divisible by 3\n",
      "11 not divisible by 3\n",
      "12 divisible by 3\n",
      "13 not divisible by 3\n",
      "14 not divisible by 3\n",
      "15 divisible by 3\n",
      "16 not divisible by 3\n",
      "17 not divisible by 3\n",
      "18 divisible by 3\n",
      "19 not divisible by 3\n",
      "20 not divisible by 3\n",
      "21 divisible by 3\n",
      "22 not divisible by 3\n",
      "23 not divisible by 3\n",
      "24 divisible by 3\n",
      "25 not divisible by 3\n"
     ]
    }
   ],
   "source": [
    "list=[1,2,3,4,5,6,7,8,9,10,11,12,13,14,15,16,17,18,19,20,21,22,23,24,25]\n",
    "for ele in list:\n",
    "    if ele%3==0:\n",
    "        print(f'{ele} divisible by 3')\n",
    "    else:\n",
    "        print(f'{ele} not divisible by 3')"
   ]
  },
  {
   "cell_type": "markdown",
   "id": "e60ed10f-6823-4fed-a011-01442d617ba0",
   "metadata": {},
   "source": [
    "Q7. What do you understand about mutable and immutable data types? Give examples for both showing\n",
    "this property."
   ]
  },
  {
   "cell_type": "markdown",
   "id": "d6664da1-d32e-4b39-96d9-0cf3e97c1350",
   "metadata": {},
   "source": [
    "mutable data types we can chage its values. immutable we canot change its values after creating it"
   ]
  },
  {
   "cell_type": "code",
   "execution_count": null,
   "id": "dd7d2cbd-e42e-4be0-bf43-2603a8170ff7",
   "metadata": {},
   "outputs": [],
   "source": [
    "#list, dict, set are mutable tuples are immutable\n"
   ]
  }
 ],
 "metadata": {
  "kernelspec": {
   "display_name": "Python 3 (ipykernel)",
   "language": "python",
   "name": "python3"
  },
  "language_info": {
   "codemirror_mode": {
    "name": "ipython",
    "version": 3
   },
   "file_extension": ".py",
   "mimetype": "text/x-python",
   "name": "python",
   "nbconvert_exporter": "python",
   "pygments_lexer": "ipython3",
   "version": "3.10.8"
  }
 },
 "nbformat": 4,
 "nbformat_minor": 5
}
