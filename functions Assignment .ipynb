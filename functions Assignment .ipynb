{
 "cells": [
  {
   "cell_type": "code",
   "execution_count": 26,
   "id": "99767dc3-d671-49c1-9ae7-529d6d840659",
   "metadata": {},
   "outputs": [
    {
     "data": {
      "text/plain": [
       "[1, 3, 5, 7, 9, 11, 13, 15, 17, 19, 21, 23, 25]"
      ]
     },
     "execution_count": 26,
     "metadata": {},
     "output_type": "execute_result"
    }
   ],
   "source": [
    "#Q1. Which keyword is used to create a function? Create a function to return a list of odd numbers in the\n",
    "#range of 1 to 25.\n",
    "def odd_list():\n",
    "    a=[]\n",
    "    for i in range (1,26):\n",
    "        if i%2==1:\n",
    "            a.append(i)\n",
    "    return a\n",
    "odd_list()"
   ]
  },
  {
   "cell_type": "code",
   "execution_count": 31,
   "id": "7b141107-e849-4ed8-b65f-657dc220bbfb",
   "metadata": {},
   "outputs": [
    {
     "name": "stdout",
     "output_type": "stream",
     "text": [
      "(3, 4, 5, 6, 7, 8)\n"
     ]
    }
   ],
   "source": [
    "#Q2. Why *args and **kwargs is used in some functions? Create a function each for *args and **kwargs to\n",
    "#demonstrate their use.\n",
    "#*args allows you to pass the desired number of arguments to the function.\n",
    "#The term Kwargs generally represents keyword arguments, suggesting that this format uses keyword-based Python dictionaries.\n",
    "def fun(*args):\n",
    "    print(args)\n",
    "   \n",
    "fun(3,4,5,6,7,8)"
   ]
  },
  {
   "cell_type": "code",
   "execution_count": 34,
   "id": "29221fc0-b755-4d67-8970-c55e09995521",
   "metadata": {},
   "outputs": [
    {
     "name": "stdout",
     "output_type": "stream",
     "text": [
      "{'name': 'anju', 'age': '30'}\n"
     ]
    }
   ],
   "source": [
    "def fun(**kargs):\n",
    "    print(kargs)\n",
    "fun(name='anju',age='30')"
   ]
  },
  {
   "cell_type": "code",
   "execution_count": 55,
   "id": "1573a37f-0b06-4cb5-981f-9116da9d8e54",
   "metadata": {},
   "outputs": [],
   "source": [
    "#Q3. What is an iterator in python? Name the method used to initialise the iterator object and the method\n",
    "#used for iteration. Use these methods to print the first five elements of the given list [2, 4, 6, 8, 10, 12, 14, 16,\n",
    "#18, 20].\n",
    "\n",
    "\n",
    "#Iterators are objects that allow you to traverse through all the elements of a collection and return one element at a time.\n",
    "# __iter__() \n",
    "# __next__()\n",
    "list= [2, 4, 6, 8, 10, 12, 14, 16,18, 20]\n",
    "iterator = iter(list)\n",
    "def iterator():\n",
    "    elements=[]\n",
    "    list= [2, 4, 6, 8, 10, 12, 14, 16,18, 20]\n",
    "    iterator = iter(list)\n",
    "    for i in range(5):\n",
    "        element=next(iterator)\n",
    "        elements.append(element)\n",
    "        \n",
    "    return elements"
   ]
  },
  {
   "cell_type": "code",
   "execution_count": 56,
   "id": "9ea22bf1-e2df-487b-97ee-ab634f6eb7af",
   "metadata": {},
   "outputs": [
    {
     "data": {
      "text/plain": [
       "[2, 4, 6, 8, 10]"
      ]
     },
     "execution_count": 56,
     "metadata": {},
     "output_type": "execute_result"
    }
   ],
   "source": [
    "iterator()"
   ]
  },
  {
   "cell_type": "code",
   "execution_count": 59,
   "id": "afff6c2f-4031-435d-a72d-30fe3c441956",
   "metadata": {},
   "outputs": [
    {
     "data": {
      "text/plain": [
       "<generator object gen_fun at 0x7f9f82b3a2d0>"
      ]
     },
     "execution_count": 59,
     "metadata": {},
     "output_type": "execute_result"
    }
   ],
   "source": [
    "#Q4. What is a generator function in python? Why yield keyword is used? Give an example of a generator\n",
    "#function.\n",
    "#yield keyword is used to create a generator function. A type of function that is memory efficient and can be used like an iterator object.\n",
    "\n",
    "#generate function generate one element and give it. they do not remember it .normal function remember all and give it as single output\n",
    "\n",
    "def gen_fun(x):\n",
    "    for i in range(x):\n",
    "        yield i\n",
    "gen_fun(10)"
   ]
  },
  {
   "cell_type": "code",
   "execution_count": 61,
   "id": "993b0fff-90d1-496b-a261-4b44c5f62ddf",
   "metadata": {},
   "outputs": [
    {
     "name": "stdout",
     "output_type": "stream",
     "text": [
      "0\n",
      "1\n",
      "2\n",
      "3\n",
      "4\n",
      "5\n",
      "6\n",
      "7\n",
      "8\n",
      "9\n"
     ]
    }
   ],
   "source": [
    "for i in gen_fun(10):\n",
    "    print(i)"
   ]
  },
  {
   "cell_type": "code",
   "execution_count": 67,
   "id": "ebcb750d-fb3c-4eb9-9c70-5bfa14510b4f",
   "metadata": {},
   "outputs": [
    {
     "name": "stdout",
     "output_type": "stream",
     "text": [
      "2\n",
      "3\n",
      "5\n",
      "7\n",
      "11\n",
      "13\n",
      "17\n",
      "19\n",
      "23\n",
      "29\n",
      "31\n",
      "37\n",
      "41\n",
      "43\n",
      "47\n",
      "53\n",
      "59\n",
      "61\n",
      "67\n",
      "71\n"
     ]
    }
   ],
   "source": [
    "#Q5. Create a generator function for prime numbers less than 1000. Use the next() method to print the\n",
    "#first 20 prime numbers.\n",
    "\n",
    "def is_prime(n):\n",
    "    if n <= 1:\n",
    "        return False\n",
    "    for i in range(2, int(n**0.5) + 1):\n",
    "        if n % i == 0:\n",
    "            return False\n",
    "    return True\n",
    "\n",
    "def prime_nums_generator():\n",
    "    n = 2\n",
    "    while True:\n",
    "        if is_prime(n):\n",
    "            yield n\n",
    "        n += 1\n",
    "\n",
    "# Create the generator object\n",
    "primes = prime_nums_generator()\n",
    "\n",
    "for i in range(20):\n",
    "    print(next(primes))\n",
    "    "
   ]
  },
  {
   "cell_type": "code",
   "execution_count": null,
   "id": "ca28fc48-0e74-45a3-9719-b436baeb8b71",
   "metadata": {},
   "outputs": [],
   "source": []
  }
 ],
 "metadata": {
  "kernelspec": {
   "display_name": "Python 3 (ipykernel)",
   "language": "python",
   "name": "python3"
  },
  "language_info": {
   "codemirror_mode": {
    "name": "ipython",
    "version": 3
   },
   "file_extension": ".py",
   "mimetype": "text/x-python",
   "name": "python",
   "nbconvert_exporter": "python",
   "pygments_lexer": "ipython3",
   "version": "3.10.8"
  }
 },
 "nbformat": 4,
 "nbformat_minor": 5
}
